{
 "cells": [
  {
   "cell_type": "code",
   "execution_count": 22,
   "metadata": {},
   "outputs": [
    {
     "name": "stdout",
     "output_type": "stream",
     "text": [
      "[Assistant(id='asst_3OtAZTPpmi0sKhR9pAh2qkFI', created_at=1732279015, description=None, instructions='You are an AI designed to provide accurate and context-specific answers to user inquiries. You must stick strictly to the information provided within the designated context and may not introduce any external assumptions or knowledge. ', metadata={}, model='gpt-4o-2', name='Assistant253', object='assistant', tools=[FileSearchTool(type='file_search', file_search=FileSearch(max_num_results=None, ranking_options=FileSearchRankingOptions(score_threshold=0.0, ranker='default_2024_08_21'))), FunctionTool(function=FunctionDefinition(name='get_total', description='Determine total price of the selected items', parameters={'type': 'object', 'properties': {'devices': {'type': 'string', 'description': 'Name of the devices'}}, 'required': ['name']}, strict=False), type='function')], response_format='auto', temperature=1.0, tool_resources=ToolResources(code_interpreter=ToolResourcesCodeInterpreter(file_ids=['assistant-DSdSrglAJBwDZFriUdbKtqGV']), file_search=ToolResourcesFileSearch(vector_store_ids=['vs_ru78gbdVu2XsQfElxoMR5i6s'])), top_p=1.0), Assistant(id='asst_KikkB5LKZWGwuy0Verx37Jby', created_at=1707905518, description=None, instructions='you are resp for telling jokes', metadata={}, model='gpt-35-turbo', name='adfahsfsa', object='assistant', tools=[], response_format='auto', temperature=1.0, tool_resources=ToolResources(code_interpreter=None, file_search=None), top_p=1.0)]\n",
      "Assistant(id='asst_3OtAZTPpmi0sKhR9pAh2qkFI', created_at=1732279015, description=None, instructions='You are an AI designed to provide accurate and context-specific answers to user inquiries. You must stick strictly to the information provided within the designated context and may not introduce any external assumptions or knowledge. ', metadata={}, model='gpt-4o-2', name='Assistant253', object='assistant', tools=[FileSearchTool(type='file_search', file_search=FileSearch(max_num_results=None, ranking_options=FileSearchRankingOptions(score_threshold=0.0, ranker='default_2024_08_21'))), FunctionTool(function=FunctionDefinition(name='get_total', description='Determine total price of the selected items', parameters={'type': 'object', 'properties': {'devices': {'type': 'string', 'description': 'Name of the devices'}}, 'required': ['name']}, strict=False), type='function')], response_format='auto', temperature=1.0, tool_resources=ToolResources(code_interpreter=ToolResourcesCodeInterpreter(file_ids=['assistant-DSdSrglAJBwDZFriUdbKtqGV']), file_search=ToolResourcesFileSearch(vector_store_ids=['vs_ru78gbdVu2XsQfElxoMR5i6s'])), top_p=1.0)\n"
     ]
    }
   ],
   "source": [
    "from openai import AzureOpenAI # type: ignore\n",
    "    \n",
    "client = AzureOpenAI(\n",
    "    api_key=\"aedc8ec21a8b47908eadb2fa8ac648df\",  \n",
    "    api_version=\"2024-08-01-preview\",\n",
    "    azure_endpoint = \"https://planb-eastus2-openai-service.openai.azure.com/\"\n",
    "    )\n",
    "\n",
    "my_assistants = client.beta.assistants.list(\n",
    "    order=\"desc\",\n",
    "    limit=\"20\",\n",
    ")\n",
    "print(my_assistants.data)\n",
    "\n",
    "my_assistant = client.beta.assistants.retrieve(\"asst_3OtAZTPpmi0sKhR9pAh2qkFI\")\n",
    "print(my_assistant)"
   ]
  },
  {
   "cell_type": "code",
   "execution_count": 23,
   "metadata": {},
   "outputs": [],
   "source": [
    "# Create a thread with a message.\n",
    "thread = client.beta.threads.create(\n",
    "    messages=[\n",
    "        {\n",
    "            \"role\": \"user\",\n",
    "            \"content\": \"give me the list of all apple products\"\n",
    "        }\n",
    "    ]\n",
    ")"
   ]
  },
  {
   "cell_type": "code",
   "execution_count": 24,
   "metadata": {},
   "outputs": [
    {
     "name": "stdout",
     "output_type": "stream",
     "text": [
      "O Run Created: run_steEE0fxqiGWZ7KaLfjLGvXB\n"
     ]
    }
   ],
   "source": [
    "# Submit the thread to the assistant (as a new run).\n",
    "run = client.beta.threads.runs.create(thread_id=thread.id, assistant_id=\"asst_3OtAZTPpmi0sKhR9pAh2qkFI\")\n",
    "print(f\"O Run Created: {run.id}\")"
   ]
  },
  {
   "cell_type": "code",
   "execution_count": 25,
   "metadata": {},
   "outputs": [
    {
     "name": "stdout",
     "output_type": "stream",
     "text": [
      "Run Status: in_progress\n",
      "Run Status: in_progress\n",
      "Run Status: completed\n",
      "Run Completed!\n",
      "Response: Here is a list of Apple products from the provided document:\n",
      "\n",
      "1. iPhone 13 Pro Max\n",
      "2. MacBook Pro 14-inch\n",
      "3. iPad Pro 12.9-inch【6:0†source】.\n"
     ]
    }
   ],
   "source": [
    "import time\n",
    "\n",
    "# Wait for run to complete.\n",
    "while run.status != \"completed\":\n",
    "    run = client.beta.threads.runs.retrieve(thread_id=thread.id, run_id=run.id)\n",
    "    print(f\"Run Status: {run.status}\")\n",
    "    time. sleep(1)\n",
    "else:\n",
    "    print(f\"Run Completed!\")\n",
    "    \n",
    "# Get the latest message from the thread.\n",
    "message_response = client.beta.threads.messages.list(thread_id=thread.id)\n",
    "messages = message_response.data # type: ignore\n",
    "\n",
    "# Print the latest message.\n",
    "latest_message = messages[0]\n",
    "print(f\"Response: {latest_message.content[0].text.value}\")"
   ]
  },
  {
   "cell_type": "code",
   "execution_count": null,
   "metadata": {},
   "outputs": [],
   "source": []
  }
 ],
 "metadata": {
  "kernelspec": {
   "display_name": "Python 3",
   "language": "python",
   "name": "python3"
  },
  "language_info": {
   "codemirror_mode": {
    "name": "ipython",
    "version": 3
   },
   "file_extension": ".py",
   "mimetype": "text/x-python",
   "name": "python",
   "nbconvert_exporter": "python",
   "pygments_lexer": "ipython3",
   "version": "3.13.0"
  }
 },
 "nbformat": 4,
 "nbformat_minor": 2
}
